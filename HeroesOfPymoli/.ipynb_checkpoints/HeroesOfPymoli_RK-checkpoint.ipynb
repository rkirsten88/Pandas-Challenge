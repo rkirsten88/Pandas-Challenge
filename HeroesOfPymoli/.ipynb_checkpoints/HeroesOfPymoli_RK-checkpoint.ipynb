{
 "cells": [
  {
   "cell_type": "markdown",
   "metadata": {},
   "source": [
    "### Note\n",
    "* Instructions have been included for each segment. You do not have to follow them exactly, but they are included to help you think through the steps."
   ]
  },
  {
   "cell_type": "code",
   "execution_count": 1,
   "metadata": {},
   "outputs": [
    {
     "data": {
      "text/html": [
       "<div>\n",
       "<style scoped>\n",
       "    .dataframe tbody tr th:only-of-type {\n",
       "        vertical-align: middle;\n",
       "    }\n",
       "\n",
       "    .dataframe tbody tr th {\n",
       "        vertical-align: top;\n",
       "    }\n",
       "\n",
       "    .dataframe thead th {\n",
       "        text-align: right;\n",
       "    }\n",
       "</style>\n",
       "<table border=\"1\" class=\"dataframe\">\n",
       "  <thead>\n",
       "    <tr style=\"text-align: right;\">\n",
       "      <th></th>\n",
       "      <th>Purchase ID</th>\n",
       "      <th>SN</th>\n",
       "      <th>Age</th>\n",
       "      <th>Gender</th>\n",
       "      <th>Item ID</th>\n",
       "      <th>Item Name</th>\n",
       "      <th>Price</th>\n",
       "    </tr>\n",
       "  </thead>\n",
       "  <tbody>\n",
       "    <tr>\n",
       "      <th>0</th>\n",
       "      <td>0</td>\n",
       "      <td>Lisim78</td>\n",
       "      <td>20</td>\n",
       "      <td>Male</td>\n",
       "      <td>108</td>\n",
       "      <td>Extraction, Quickblade Of Trembling Hands</td>\n",
       "      <td>3.53</td>\n",
       "    </tr>\n",
       "    <tr>\n",
       "      <th>1</th>\n",
       "      <td>1</td>\n",
       "      <td>Lisovynya38</td>\n",
       "      <td>40</td>\n",
       "      <td>Male</td>\n",
       "      <td>143</td>\n",
       "      <td>Frenzied Scimitar</td>\n",
       "      <td>1.56</td>\n",
       "    </tr>\n",
       "    <tr>\n",
       "      <th>2</th>\n",
       "      <td>2</td>\n",
       "      <td>Ithergue48</td>\n",
       "      <td>24</td>\n",
       "      <td>Male</td>\n",
       "      <td>92</td>\n",
       "      <td>Final Critic</td>\n",
       "      <td>4.88</td>\n",
       "    </tr>\n",
       "    <tr>\n",
       "      <th>3</th>\n",
       "      <td>3</td>\n",
       "      <td>Chamassasya86</td>\n",
       "      <td>24</td>\n",
       "      <td>Male</td>\n",
       "      <td>100</td>\n",
       "      <td>Blindscythe</td>\n",
       "      <td>3.27</td>\n",
       "    </tr>\n",
       "    <tr>\n",
       "      <th>4</th>\n",
       "      <td>4</td>\n",
       "      <td>Iskosia90</td>\n",
       "      <td>23</td>\n",
       "      <td>Male</td>\n",
       "      <td>131</td>\n",
       "      <td>Fury</td>\n",
       "      <td>1.44</td>\n",
       "    </tr>\n",
       "  </tbody>\n",
       "</table>\n",
       "</div>"
      ],
      "text/plain": [
       "   Purchase ID             SN  Age Gender  Item ID  \\\n",
       "0            0        Lisim78   20   Male      108   \n",
       "1            1    Lisovynya38   40   Male      143   \n",
       "2            2     Ithergue48   24   Male       92   \n",
       "3            3  Chamassasya86   24   Male      100   \n",
       "4            4      Iskosia90   23   Male      131   \n",
       "\n",
       "                                   Item Name  Price  \n",
       "0  Extraction, Quickblade Of Trembling Hands   3.53  \n",
       "1                          Frenzied Scimitar   1.56  \n",
       "2                               Final Critic   4.88  \n",
       "3                                Blindscythe   3.27  \n",
       "4                                       Fury   1.44  "
      ]
     },
     "execution_count": 1,
     "metadata": {},
     "output_type": "execute_result"
    }
   ],
   "source": [
    "# Dependencies and Setup\n",
    "import pandas as pd\n",
    "\n",
    "# File to Load (Remember to Change These)\n",
    "heroes_path = \"Resources/purchase_data.csv\"\n",
    "\n",
    "# Read Purchasing File and store into Pandas data frame\n",
    "df = pd.read_csv(heroes_path)\n",
    "df.head()"
   ]
  },
  {
   "cell_type": "markdown",
   "metadata": {},
   "source": [
    "## Player Count"
   ]
  },
  {
   "cell_type": "markdown",
   "metadata": {},
   "source": [
    "* Display the total number of players\n"
   ]
  },
  {
   "cell_type": "code",
   "execution_count": 2,
   "metadata": {},
   "outputs": [
    {
     "data": {
      "text/html": [
       "<div>\n",
       "<style scoped>\n",
       "    .dataframe tbody tr th:only-of-type {\n",
       "        vertical-align: middle;\n",
       "    }\n",
       "\n",
       "    .dataframe tbody tr th {\n",
       "        vertical-align: top;\n",
       "    }\n",
       "\n",
       "    .dataframe thead th {\n",
       "        text-align: right;\n",
       "    }\n",
       "</style>\n",
       "<table border=\"1\" class=\"dataframe\">\n",
       "  <thead>\n",
       "    <tr style=\"text-align: right;\">\n",
       "      <th></th>\n",
       "      <th>Total Players</th>\n",
       "    </tr>\n",
       "  </thead>\n",
       "  <tbody>\n",
       "    <tr>\n",
       "      <th>0</th>\n",
       "      <td>576</td>\n",
       "    </tr>\n",
       "  </tbody>\n",
       "</table>\n",
       "</div>"
      ],
      "text/plain": [
       "   Total Players\n",
       "0            576"
      ]
     },
     "execution_count": 2,
     "metadata": {},
     "output_type": "execute_result"
    }
   ],
   "source": [
    "#display total. use length and .unique to count number of unique names and add to new dataframe\n",
    "total_players = len(df[\"SN\"].unique())\n",
    "total_players_df = pd.DataFrame({\"Total Players\": [total_players]})\n",
    "total_players_df"
   ]
  },
  {
   "cell_type": "markdown",
   "metadata": {},
   "source": [
    "## Purchasing Analysis (Total)"
   ]
  },
  {
   "cell_type": "markdown",
   "metadata": {},
   "source": [
    "* Run basic calculations to obtain number of unique items, average price, etc.\n",
    "\n",
    "\n",
    "* Create a summary data frame to hold the results\n",
    "\n",
    "\n",
    "* Optional: give the displayed data cleaner formatting\n",
    "\n",
    "\n",
    "* Display the summary data frame\n"
   ]
  },
  {
   "cell_type": "code",
   "execution_count": 3,
   "metadata": {
    "scrolled": true
   },
   "outputs": [
    {
     "name": "stdout",
     "output_type": "stream",
     "text": [
      "[179, 3.050987179487176, 780, 2379.77]\n"
     ]
    }
   ],
   "source": [
    "#calculate number of unique items, average price, number of purchases, and total revenue\n",
    "unique_items = df[\"Item ID\"].nunique()\n",
    "average_price = df[\"Price\"].mean()\n",
    "number_purchases = df[\"Purchase ID\"].nunique()\n",
    "total_revenue = df[\"Price\"].sum()\n",
    "\n",
    "purchase_data = [unique_items, average_price, number_purchases, total_revenue]\n",
    "print(purchase_data)"
   ]
  },
  {
   "cell_type": "code",
   "execution_count": 4,
   "metadata": {},
   "outputs": [
    {
     "data": {
      "text/html": [
       "<div>\n",
       "<style scoped>\n",
       "    .dataframe tbody tr th:only-of-type {\n",
       "        vertical-align: middle;\n",
       "    }\n",
       "\n",
       "    .dataframe tbody tr th {\n",
       "        vertical-align: top;\n",
       "    }\n",
       "\n",
       "    .dataframe thead th {\n",
       "        text-align: right;\n",
       "    }\n",
       "</style>\n",
       "<table border=\"1\" class=\"dataframe\">\n",
       "  <thead>\n",
       "    <tr style=\"text-align: right;\">\n",
       "      <th></th>\n",
       "      <th>Average Purchase Price</th>\n",
       "      <th>Number of Purchases</th>\n",
       "      <th>Total Revenue</th>\n",
       "    </tr>\n",
       "    <tr>\n",
       "      <th>Number of Unique Items</th>\n",
       "      <th></th>\n",
       "      <th></th>\n",
       "      <th></th>\n",
       "    </tr>\n",
       "  </thead>\n",
       "  <tbody>\n",
       "    <tr>\n",
       "      <th>179</th>\n",
       "      <td>$3.05</td>\n",
       "      <td>780</td>\n",
       "      <td>$2,379.77</td>\n",
       "    </tr>\n",
       "  </tbody>\n",
       "</table>\n",
       "</div>"
      ],
      "text/plain": [
       "                       Average Purchase Price  Number of Purchases  \\\n",
       "Number of Unique Items                                               \n",
       "179                                     $3.05                  780   \n",
       "\n",
       "                       Total Revenue  \n",
       "Number of Unique Items                \n",
       "179                        $2,379.77  "
      ]
     },
     "execution_count": 4,
     "metadata": {},
     "output_type": "execute_result"
    }
   ],
   "source": [
    "#create new dataframe out of purchase_data\n",
    "purchase_summary_df = pd.DataFrame({\"Number of Unique Items\": unique_items,\n",
    "                                    \"Average Purchase Price\": average_price,\n",
    "                                    \"Number of Purchases\": number_purchases,\n",
    "                                    \"Total Revenue\": [total_revenue]})                     \n",
    "#clean it up\n",
    "purchase_summary_df[\"Total Revenue\"] = purchase_summary_df[\"Total Revenue\"].astype(float).map(\"${:,.2f}\".format)\n",
    "purchase_summary_df[\"Average Purchase Price\"] = purchase_summary_df[\"Average Purchase Price\"].astype(float).map(\"${:,.2f}\".format)\n",
    "purchase_summary_df = purchase_summary_df.set_index(\"Number of Unique Items\")\n",
    "\n",
    "#display\n",
    "purchase_summary_df"
   ]
  },
  {
   "cell_type": "markdown",
   "metadata": {},
   "source": [
    "## Gender Demographics"
   ]
  },
  {
   "cell_type": "markdown",
   "metadata": {},
   "source": [
    "* Percentage and Count of Male Players\n",
    "\n",
    "\n",
    "* Percentage and Count of Female Players\n",
    "\n",
    "\n",
    "* Percentage and Count of Other / Non-Disclosed\n",
    "\n",
    "\n"
   ]
  },
  {
   "cell_type": "code",
   "execution_count": 5,
   "metadata": {},
   "outputs": [
    {
     "data": {
      "text/html": [
       "<style  type=\"text/css\" >\n",
       "</style><table id=\"T_baa13ec2_e8dc_11ea_947b_7085c2b270a2\" ><thead>    <tr>        <th class=\"blank level0\" ></th>        <th class=\"col_heading level0 col0\" >Percentage of Players</th>        <th class=\"col_heading level0 col1\" >Total Count</th>    </tr></thead><tbody>\n",
       "                <tr>\n",
       "                        <th id=\"T_baa13ec2_e8dc_11ea_947b_7085c2b270a2level0_row0\" class=\"row_heading level0 row0\" >Male</th>\n",
       "                        <td id=\"T_baa13ec2_e8dc_11ea_947b_7085c2b270a2row0_col0\" class=\"data row0 col0\" >84.03 %</td>\n",
       "                        <td id=\"T_baa13ec2_e8dc_11ea_947b_7085c2b270a2row0_col1\" class=\"data row0 col1\" >484</td>\n",
       "            </tr>\n",
       "            <tr>\n",
       "                        <th id=\"T_baa13ec2_e8dc_11ea_947b_7085c2b270a2level0_row1\" class=\"row_heading level0 row1\" >Female</th>\n",
       "                        <td id=\"T_baa13ec2_e8dc_11ea_947b_7085c2b270a2row1_col0\" class=\"data row1 col0\" >14.06 %</td>\n",
       "                        <td id=\"T_baa13ec2_e8dc_11ea_947b_7085c2b270a2row1_col1\" class=\"data row1 col1\" >81</td>\n",
       "            </tr>\n",
       "            <tr>\n",
       "                        <th id=\"T_baa13ec2_e8dc_11ea_947b_7085c2b270a2level0_row2\" class=\"row_heading level0 row2\" >Other / Non-Disclosed</th>\n",
       "                        <td id=\"T_baa13ec2_e8dc_11ea_947b_7085c2b270a2row2_col0\" class=\"data row2 col0\" >1.91 %</td>\n",
       "                        <td id=\"T_baa13ec2_e8dc_11ea_947b_7085c2b270a2row2_col1\" class=\"data row2 col1\" >11</td>\n",
       "            </tr>\n",
       "    </tbody></table>"
      ],
      "text/plain": [
       "<pandas.io.formats.style.Styler at 0x1efcc0b4e50>"
      ]
     },
     "execution_count": 5,
     "metadata": {},
     "output_type": "execute_result"
    }
   ],
   "source": [
    "#groupby gender\n",
    "gender_df = df.groupby(\"Gender\")\n",
    "\n",
    "#percentage calculations\n",
    "total_gender_count = gender_df[\"SN\"].nunique()\n",
    "percent_players = total_gender_count / total_players * 100\n",
    "\n",
    "# create new dataframe \n",
    "gender_demo_df = pd.DataFrame({\"Percentage of Players\": percent_players, \"Total Count\": total_gender_count})\n",
    "#clean it up\n",
    "gender_demo_df = gender_demo_df.sort_values([\"Total Count\"], ascending = False).style.format({\"Percentage of Players\":\"{:.2f} %\"})\n",
    "gender_demo_df.index.name = None\n",
    "gender_demo_df"
   ]
  },
  {
   "cell_type": "markdown",
   "metadata": {},
   "source": [
    "\n",
    "## Purchasing Analysis (Gender)"
   ]
  },
  {
   "cell_type": "markdown",
   "metadata": {},
   "source": [
    "* Run basic calculations to obtain purchase count, avg. purchase price, avg. purchase total per person etc. by gender\n",
    "\n",
    "\n",
    "\n",
    "\n",
    "* Create a summary data frame to hold the results\n",
    "\n",
    "\n",
    "* Optional: give the displayed data cleaner formatting\n",
    "\n",
    "\n",
    "* Display the summary data frame"
   ]
  },
  {
   "cell_type": "code",
   "execution_count": 6,
   "metadata": {},
   "outputs": [
    {
     "data": {
      "text/html": [
       "<style  type=\"text/css\" >\n",
       "</style><table id=\"T_baa4efce_e8dc_11ea_81e1_7085c2b270a2\" ><thead>    <tr>        <th class=\"blank level0\" ></th>        <th class=\"col_heading level0 col0\" >Purchase Count</th>        <th class=\"col_heading level0 col1\" >Average Purchase Price</th>        <th class=\"col_heading level0 col2\" >Average Purchase Total</th>        <th class=\"col_heading level0 col3\" >Avg Purchase Total per Person</th>    </tr></thead><tbody>\n",
       "                <tr>\n",
       "                        <th id=\"T_baa4efce_e8dc_11ea_81e1_7085c2b270a2level0_row0\" class=\"row_heading level0 row0\" >Male</th>\n",
       "                        <td id=\"T_baa4efce_e8dc_11ea_81e1_7085c2b270a2row0_col0\" class=\"data row0 col0\" >652</td>\n",
       "                        <td id=\"T_baa4efce_e8dc_11ea_81e1_7085c2b270a2row0_col1\" class=\"data row0 col1\" >$3.02</td>\n",
       "                        <td id=\"T_baa4efce_e8dc_11ea_81e1_7085c2b270a2row0_col2\" class=\"data row0 col2\" >$1,967.64</td>\n",
       "                        <td id=\"T_baa4efce_e8dc_11ea_81e1_7085c2b270a2row0_col3\" class=\"data row0 col3\" >$4.07</td>\n",
       "            </tr>\n",
       "            <tr>\n",
       "                        <th id=\"T_baa4efce_e8dc_11ea_81e1_7085c2b270a2level0_row1\" class=\"row_heading level0 row1\" >Female</th>\n",
       "                        <td id=\"T_baa4efce_e8dc_11ea_81e1_7085c2b270a2row1_col0\" class=\"data row1 col0\" >113</td>\n",
       "                        <td id=\"T_baa4efce_e8dc_11ea_81e1_7085c2b270a2row1_col1\" class=\"data row1 col1\" >$3.20</td>\n",
       "                        <td id=\"T_baa4efce_e8dc_11ea_81e1_7085c2b270a2row1_col2\" class=\"data row1 col2\" >$361.94</td>\n",
       "                        <td id=\"T_baa4efce_e8dc_11ea_81e1_7085c2b270a2row1_col3\" class=\"data row1 col3\" >$4.47</td>\n",
       "            </tr>\n",
       "            <tr>\n",
       "                        <th id=\"T_baa4efce_e8dc_11ea_81e1_7085c2b270a2level0_row2\" class=\"row_heading level0 row2\" >Other / Non-Disclosed</th>\n",
       "                        <td id=\"T_baa4efce_e8dc_11ea_81e1_7085c2b270a2row2_col0\" class=\"data row2 col0\" >15</td>\n",
       "                        <td id=\"T_baa4efce_e8dc_11ea_81e1_7085c2b270a2row2_col1\" class=\"data row2 col1\" >$3.35</td>\n",
       "                        <td id=\"T_baa4efce_e8dc_11ea_81e1_7085c2b270a2row2_col2\" class=\"data row2 col2\" >$50.19</td>\n",
       "                        <td id=\"T_baa4efce_e8dc_11ea_81e1_7085c2b270a2row2_col3\" class=\"data row2 col3\" >$4.56</td>\n",
       "            </tr>\n",
       "    </tbody></table>"
      ],
      "text/plain": [
       "<pandas.io.formats.style.Styler at 0x1efcc089e50>"
      ]
     },
     "execution_count": 6,
     "metadata": {},
     "output_type": "execute_result"
    }
   ],
   "source": [
    "#purchases by gender\n",
    "purchase_count = gender_df[\"Purchase ID\"].count()\n",
    "#average total purchase by gender\n",
    "avg_purchase_total = gender_df[\"Price\"].sum()\n",
    "\n",
    "#average purchase prices by gender\n",
    "avg_purchase_price = gender_df[\"Price\"].mean()\n",
    "\n",
    "\n",
    "\n",
    "#average purchase total by gender/purchase count (unique shoppers calculated previously)\n",
    "avg_purchase_per_person = avg_purchase_total/total_gender_count\n",
    "\n",
    "#create new dataframe\n",
    "gender_purchase_demo_df = pd.DataFrame({\"Purchase Count\": purchase_count, \n",
    "                                    \"Average Purchase Price\": avg_purchase_price,\n",
    "                                    \"Average Purchase Total\": avg_purchase_total,\n",
    "                                    \"Avg Purchase Total per Person\": avg_purchase_per_person})\n",
    "                                       \n",
    "#set new index and then tell it to go away to make it look prettier\n",
    "gender_purchase_demo_df.index.name = \"Gender\"\n",
    "gender_purchase_demo_df.index.name = None\n",
    "#clean it up\n",
    "gender_purchase_demo_df = gender_purchase_demo_df.sort_values([\"Average Purchase Total\"], ascending = False)\n",
    "gender_purchase_demo_df = gender_purchase_demo_df.style.format({\"Average Purchase Total\":\"${:,.2f}\",\n",
    "                                                                \"Average Purchase Price\":\"${:,.2f}\",\n",
    "                                                                \"Avg Purchase Total per Person\":\"${:,.2f}\"})\n",
    "gender_purchase_demo_df"
   ]
  },
  {
   "cell_type": "markdown",
   "metadata": {},
   "source": [
    "## Age Demographics"
   ]
  },
  {
   "cell_type": "markdown",
   "metadata": {},
   "source": [
    "* Establish bins for ages\n",
    "\n",
    "\n",
    "* Categorize the existing players using the age bins. Hint: use pd.cut()\n",
    "\n",
    "\n",
    "* Calculate the numbers and percentages by age group\n",
    "\n",
    "\n",
    "* Create a summary data frame to hold the results\n",
    "\n",
    "\n",
    "* Optional: round the percentage column to two decimal points\n",
    "\n",
    "\n",
    "* Display Age Demographics Table\n"
   ]
  },
  {
   "cell_type": "code",
   "execution_count": 7,
   "metadata": {
    "scrolled": true
   },
   "outputs": [
    {
     "data": {
      "text/html": [
       "<style  type=\"text/css\" >\n",
       "</style><table id=\"T_baa787ff_e8dc_11ea_af94_7085c2b270a2\" ><thead>    <tr>        <th class=\"blank level0\" ></th>        <th class=\"col_heading level0 col0\" >Players by Age</th>        <th class=\"col_heading level0 col1\" >Percentage by Age</th>    </tr></thead><tbody>\n",
       "                <tr>\n",
       "                        <th id=\"T_baa787ff_e8dc_11ea_af94_7085c2b270a2level0_row0\" class=\"row_heading level0 row0\" ><10</th>\n",
       "                        <td id=\"T_baa787ff_e8dc_11ea_af94_7085c2b270a2row0_col0\" class=\"data row0 col0\" >17</td>\n",
       "                        <td id=\"T_baa787ff_e8dc_11ea_af94_7085c2b270a2row0_col1\" class=\"data row0 col1\" >2.95 %</td>\n",
       "            </tr>\n",
       "            <tr>\n",
       "                        <th id=\"T_baa787ff_e8dc_11ea_af94_7085c2b270a2level0_row1\" class=\"row_heading level0 row1\" >10-14</th>\n",
       "                        <td id=\"T_baa787ff_e8dc_11ea_af94_7085c2b270a2row1_col0\" class=\"data row1 col0\" >22</td>\n",
       "                        <td id=\"T_baa787ff_e8dc_11ea_af94_7085c2b270a2row1_col1\" class=\"data row1 col1\" >3.82 %</td>\n",
       "            </tr>\n",
       "            <tr>\n",
       "                        <th id=\"T_baa787ff_e8dc_11ea_af94_7085c2b270a2level0_row2\" class=\"row_heading level0 row2\" >15-19</th>\n",
       "                        <td id=\"T_baa787ff_e8dc_11ea_af94_7085c2b270a2row2_col0\" class=\"data row2 col0\" >107</td>\n",
       "                        <td id=\"T_baa787ff_e8dc_11ea_af94_7085c2b270a2row2_col1\" class=\"data row2 col1\" >18.58 %</td>\n",
       "            </tr>\n",
       "            <tr>\n",
       "                        <th id=\"T_baa787ff_e8dc_11ea_af94_7085c2b270a2level0_row3\" class=\"row_heading level0 row3\" >20-24</th>\n",
       "                        <td id=\"T_baa787ff_e8dc_11ea_af94_7085c2b270a2row3_col0\" class=\"data row3 col0\" >258</td>\n",
       "                        <td id=\"T_baa787ff_e8dc_11ea_af94_7085c2b270a2row3_col1\" class=\"data row3 col1\" >44.79 %</td>\n",
       "            </tr>\n",
       "            <tr>\n",
       "                        <th id=\"T_baa787ff_e8dc_11ea_af94_7085c2b270a2level0_row4\" class=\"row_heading level0 row4\" >25-29</th>\n",
       "                        <td id=\"T_baa787ff_e8dc_11ea_af94_7085c2b270a2row4_col0\" class=\"data row4 col0\" >77</td>\n",
       "                        <td id=\"T_baa787ff_e8dc_11ea_af94_7085c2b270a2row4_col1\" class=\"data row4 col1\" >13.37 %</td>\n",
       "            </tr>\n",
       "            <tr>\n",
       "                        <th id=\"T_baa787ff_e8dc_11ea_af94_7085c2b270a2level0_row5\" class=\"row_heading level0 row5\" >30-34</th>\n",
       "                        <td id=\"T_baa787ff_e8dc_11ea_af94_7085c2b270a2row5_col0\" class=\"data row5 col0\" >52</td>\n",
       "                        <td id=\"T_baa787ff_e8dc_11ea_af94_7085c2b270a2row5_col1\" class=\"data row5 col1\" >9.03 %</td>\n",
       "            </tr>\n",
       "            <tr>\n",
       "                        <th id=\"T_baa787ff_e8dc_11ea_af94_7085c2b270a2level0_row6\" class=\"row_heading level0 row6\" >35-39</th>\n",
       "                        <td id=\"T_baa787ff_e8dc_11ea_af94_7085c2b270a2row6_col0\" class=\"data row6 col0\" >31</td>\n",
       "                        <td id=\"T_baa787ff_e8dc_11ea_af94_7085c2b270a2row6_col1\" class=\"data row6 col1\" >5.38 %</td>\n",
       "            </tr>\n",
       "            <tr>\n",
       "                        <th id=\"T_baa787ff_e8dc_11ea_af94_7085c2b270a2level0_row7\" class=\"row_heading level0 row7\" >40-44</th>\n",
       "                        <td id=\"T_baa787ff_e8dc_11ea_af94_7085c2b270a2row7_col0\" class=\"data row7 col0\" >11</td>\n",
       "                        <td id=\"T_baa787ff_e8dc_11ea_af94_7085c2b270a2row7_col1\" class=\"data row7 col1\" >1.91 %</td>\n",
       "            </tr>\n",
       "            <tr>\n",
       "                        <th id=\"T_baa787ff_e8dc_11ea_af94_7085c2b270a2level0_row8\" class=\"row_heading level0 row8\" >45+</th>\n",
       "                        <td id=\"T_baa787ff_e8dc_11ea_af94_7085c2b270a2row8_col0\" class=\"data row8 col0\" >1</td>\n",
       "                        <td id=\"T_baa787ff_e8dc_11ea_af94_7085c2b270a2row8_col1\" class=\"data row8 col1\" >0.17 %</td>\n",
       "            </tr>\n",
       "    </tbody></table>"
      ],
      "text/plain": [
       "<pandas.io.formats.style.Styler at 0x1efcd149910>"
      ]
     },
     "execution_count": 7,
     "metadata": {},
     "output_type": "execute_result"
    }
   ],
   "source": [
    "#bins\n",
    "bin_ages = [0, 9.5, 14.5, 19.5, 24.5, 29.5, 34.5, 39.5, 44.5, 999]\n",
    "bin_names = [\"<10\", \"10-14\", \"15-19\", \"20-24\", \"25-29\", \"30-34\", \"35-39\", \"40-44\", \"45+\"]\n",
    "\n",
    "#insert new column and cut in bins by age\n",
    "df[\"Age Group\"] = pd.cut(df[\"Age\"], bin_ages, labels = bin_names)\n",
    "#group by age (hah) \n",
    "age_grouped = df.groupby(\"Age Group\")\n",
    "\n",
    "#calculate players and percent by age\n",
    "total_age_count = age_grouped[\"SN\"].nunique()\n",
    "percentage_by_age = total_age_count/total_players * 100\n",
    "\n",
    "#create new dataframe\n",
    "age_demo_df = pd.DataFrame({\"Players by Age\": total_age_count, \"Percentage by Age\": percentage_by_age})\n",
    "\n",
    "#clean it up\n",
    "age_demo_df = age_demo_df.style.format({\"Percentage by Age\":\"{:,.2f} %\"})\n",
    "age_demo_df.index.name = None\n",
    "age_demo_df"
   ]
  },
  {
   "cell_type": "markdown",
   "metadata": {},
   "source": [
    "## Purchasing Analysis (Age)"
   ]
  },
  {
   "cell_type": "markdown",
   "metadata": {},
   "source": [
    "* Bin the purchase_data data frame by age\n",
    "\n",
    "\n",
    "* Run basic calculations to obtain purchase count, avg. purchase price, avg. purchase total per person etc. in the table below\n",
    "\n",
    "\n",
    "* Create a summary data frame to hold the results\n",
    "\n",
    "\n",
    "* Optional: give the displayed data cleaner formatting\n",
    "\n",
    "\n",
    "* Display the summary data frame"
   ]
  },
  {
   "cell_type": "code",
   "execution_count": 8,
   "metadata": {},
   "outputs": [
    {
     "data": {
      "text/html": [
       "<style  type=\"text/css\" >\n",
       "</style><table id=\"T_baa9aaf7_e8dc_11ea_ac3f_7085c2b270a2\" ><thead>    <tr>        <th class=\"blank level0\" ></th>        <th class=\"col_heading level0 col0\" >Purchase Count</th>        <th class=\"col_heading level0 col1\" >Average Purchase Price</th>        <th class=\"col_heading level0 col2\" >Total Purchase Value</th>        <th class=\"col_heading level0 col3\" >Average Purchase Total per Person</th>    </tr></thead><tbody>\n",
       "                <tr>\n",
       "                        <th id=\"T_baa9aaf7_e8dc_11ea_ac3f_7085c2b270a2level0_row0\" class=\"row_heading level0 row0\" ><10</th>\n",
       "                        <td id=\"T_baa9aaf7_e8dc_11ea_ac3f_7085c2b270a2row0_col0\" class=\"data row0 col0\" >23</td>\n",
       "                        <td id=\"T_baa9aaf7_e8dc_11ea_ac3f_7085c2b270a2row0_col1\" class=\"data row0 col1\" >$3.35</td>\n",
       "                        <td id=\"T_baa9aaf7_e8dc_11ea_ac3f_7085c2b270a2row0_col2\" class=\"data row0 col2\" >$77.13</td>\n",
       "                        <td id=\"T_baa9aaf7_e8dc_11ea_ac3f_7085c2b270a2row0_col3\" class=\"data row0 col3\" >$4.54</td>\n",
       "            </tr>\n",
       "            <tr>\n",
       "                        <th id=\"T_baa9aaf7_e8dc_11ea_ac3f_7085c2b270a2level0_row1\" class=\"row_heading level0 row1\" >10-14</th>\n",
       "                        <td id=\"T_baa9aaf7_e8dc_11ea_ac3f_7085c2b270a2row1_col0\" class=\"data row1 col0\" >28</td>\n",
       "                        <td id=\"T_baa9aaf7_e8dc_11ea_ac3f_7085c2b270a2row1_col1\" class=\"data row1 col1\" >$2.96</td>\n",
       "                        <td id=\"T_baa9aaf7_e8dc_11ea_ac3f_7085c2b270a2row1_col2\" class=\"data row1 col2\" >$82.78</td>\n",
       "                        <td id=\"T_baa9aaf7_e8dc_11ea_ac3f_7085c2b270a2row1_col3\" class=\"data row1 col3\" >$3.76</td>\n",
       "            </tr>\n",
       "            <tr>\n",
       "                        <th id=\"T_baa9aaf7_e8dc_11ea_ac3f_7085c2b270a2level0_row2\" class=\"row_heading level0 row2\" >15-19</th>\n",
       "                        <td id=\"T_baa9aaf7_e8dc_11ea_ac3f_7085c2b270a2row2_col0\" class=\"data row2 col0\" >136</td>\n",
       "                        <td id=\"T_baa9aaf7_e8dc_11ea_ac3f_7085c2b270a2row2_col1\" class=\"data row2 col1\" >$3.04</td>\n",
       "                        <td id=\"T_baa9aaf7_e8dc_11ea_ac3f_7085c2b270a2row2_col2\" class=\"data row2 col2\" >$412.89</td>\n",
       "                        <td id=\"T_baa9aaf7_e8dc_11ea_ac3f_7085c2b270a2row2_col3\" class=\"data row2 col3\" >$3.86</td>\n",
       "            </tr>\n",
       "            <tr>\n",
       "                        <th id=\"T_baa9aaf7_e8dc_11ea_ac3f_7085c2b270a2level0_row3\" class=\"row_heading level0 row3\" >20-24</th>\n",
       "                        <td id=\"T_baa9aaf7_e8dc_11ea_ac3f_7085c2b270a2row3_col0\" class=\"data row3 col0\" >365</td>\n",
       "                        <td id=\"T_baa9aaf7_e8dc_11ea_ac3f_7085c2b270a2row3_col1\" class=\"data row3 col1\" >$3.05</td>\n",
       "                        <td id=\"T_baa9aaf7_e8dc_11ea_ac3f_7085c2b270a2row3_col2\" class=\"data row3 col2\" >$1,114.06</td>\n",
       "                        <td id=\"T_baa9aaf7_e8dc_11ea_ac3f_7085c2b270a2row3_col3\" class=\"data row3 col3\" >$4.32</td>\n",
       "            </tr>\n",
       "            <tr>\n",
       "                        <th id=\"T_baa9aaf7_e8dc_11ea_ac3f_7085c2b270a2level0_row4\" class=\"row_heading level0 row4\" >25-29</th>\n",
       "                        <td id=\"T_baa9aaf7_e8dc_11ea_ac3f_7085c2b270a2row4_col0\" class=\"data row4 col0\" >101</td>\n",
       "                        <td id=\"T_baa9aaf7_e8dc_11ea_ac3f_7085c2b270a2row4_col1\" class=\"data row4 col1\" >$2.90</td>\n",
       "                        <td id=\"T_baa9aaf7_e8dc_11ea_ac3f_7085c2b270a2row4_col2\" class=\"data row4 col2\" >$293.00</td>\n",
       "                        <td id=\"T_baa9aaf7_e8dc_11ea_ac3f_7085c2b270a2row4_col3\" class=\"data row4 col3\" >$3.81</td>\n",
       "            </tr>\n",
       "            <tr>\n",
       "                        <th id=\"T_baa9aaf7_e8dc_11ea_ac3f_7085c2b270a2level0_row5\" class=\"row_heading level0 row5\" >30-34</th>\n",
       "                        <td id=\"T_baa9aaf7_e8dc_11ea_ac3f_7085c2b270a2row5_col0\" class=\"data row5 col0\" >73</td>\n",
       "                        <td id=\"T_baa9aaf7_e8dc_11ea_ac3f_7085c2b270a2row5_col1\" class=\"data row5 col1\" >$2.93</td>\n",
       "                        <td id=\"T_baa9aaf7_e8dc_11ea_ac3f_7085c2b270a2row5_col2\" class=\"data row5 col2\" >$214.00</td>\n",
       "                        <td id=\"T_baa9aaf7_e8dc_11ea_ac3f_7085c2b270a2row5_col3\" class=\"data row5 col3\" >$4.12</td>\n",
       "            </tr>\n",
       "            <tr>\n",
       "                        <th id=\"T_baa9aaf7_e8dc_11ea_ac3f_7085c2b270a2level0_row6\" class=\"row_heading level0 row6\" >35-39</th>\n",
       "                        <td id=\"T_baa9aaf7_e8dc_11ea_ac3f_7085c2b270a2row6_col0\" class=\"data row6 col0\" >41</td>\n",
       "                        <td id=\"T_baa9aaf7_e8dc_11ea_ac3f_7085c2b270a2row6_col1\" class=\"data row6 col1\" >$3.60</td>\n",
       "                        <td id=\"T_baa9aaf7_e8dc_11ea_ac3f_7085c2b270a2row6_col2\" class=\"data row6 col2\" >$147.67</td>\n",
       "                        <td id=\"T_baa9aaf7_e8dc_11ea_ac3f_7085c2b270a2row6_col3\" class=\"data row6 col3\" >$4.76</td>\n",
       "            </tr>\n",
       "            <tr>\n",
       "                        <th id=\"T_baa9aaf7_e8dc_11ea_ac3f_7085c2b270a2level0_row7\" class=\"row_heading level0 row7\" >40-44</th>\n",
       "                        <td id=\"T_baa9aaf7_e8dc_11ea_ac3f_7085c2b270a2row7_col0\" class=\"data row7 col0\" >12</td>\n",
       "                        <td id=\"T_baa9aaf7_e8dc_11ea_ac3f_7085c2b270a2row7_col1\" class=\"data row7 col1\" >$3.04</td>\n",
       "                        <td id=\"T_baa9aaf7_e8dc_11ea_ac3f_7085c2b270a2row7_col2\" class=\"data row7 col2\" >$36.54</td>\n",
       "                        <td id=\"T_baa9aaf7_e8dc_11ea_ac3f_7085c2b270a2row7_col3\" class=\"data row7 col3\" >$3.32</td>\n",
       "            </tr>\n",
       "            <tr>\n",
       "                        <th id=\"T_baa9aaf7_e8dc_11ea_ac3f_7085c2b270a2level0_row8\" class=\"row_heading level0 row8\" >45+</th>\n",
       "                        <td id=\"T_baa9aaf7_e8dc_11ea_ac3f_7085c2b270a2row8_col0\" class=\"data row8 col0\" >1</td>\n",
       "                        <td id=\"T_baa9aaf7_e8dc_11ea_ac3f_7085c2b270a2row8_col1\" class=\"data row8 col1\" >$1.70</td>\n",
       "                        <td id=\"T_baa9aaf7_e8dc_11ea_ac3f_7085c2b270a2row8_col2\" class=\"data row8 col2\" >$1.70</td>\n",
       "                        <td id=\"T_baa9aaf7_e8dc_11ea_ac3f_7085c2b270a2row8_col3\" class=\"data row8 col3\" >$1.70</td>\n",
       "            </tr>\n",
       "    </tbody></table>"
      ],
      "text/plain": [
       "<pandas.io.formats.style.Styler at 0x1efcce63be0>"
      ]
     },
     "execution_count": 8,
     "metadata": {},
     "output_type": "execute_result"
    }
   ],
   "source": [
    "#count number of purchases per age group\n",
    "purchase_count_age = age_grouped[\"Purchase ID\"].count()\n",
    "#average purchase price per age group\n",
    "avg_purchase_price_age = age_grouped[\"Price\"].mean()\n",
    "#sum total purchases per age group\n",
    "total_purchase_value = age_grouped[\"Price\"].sum()\n",
    "#average person per age = total purchase value (by bins) / total age count (by bins)\n",
    "avg_purchase_per_person_age = total_purchase_value/total_age_count\n",
    "\n",
    "age_demo_purchase_df = pd.DataFrame({\"Purchase Count\": purchase_count_age,\n",
    "                                     \"Average Purchase Price\": avg_purchase_price_age,\n",
    "                                     \"Total Purchase Value\":total_purchase_value,\n",
    "                                     \"Average Purchase Total per Person\": avg_purchase_per_person_age})\n",
    "\n",
    "#clean it up\n",
    "age_demo_purchase_df = age_demo_purchase_df.style.format({\"Average Purchase Price\":\"${:,.2f}\",\n",
    "                                                          \"Total Purchase Value\":\"${:,.2f}\",\n",
    "                                                          \"Average Purchase Total per Person\":\"${:,.2f}\"})\n",
    "\n",
    "age_demo_purchase_df"
   ]
  },
  {
   "cell_type": "markdown",
   "metadata": {},
   "source": [
    "## Top Spenders"
   ]
  },
  {
   "cell_type": "markdown",
   "metadata": {},
   "source": [
    "* Run basic calculations to obtain the results in the table below\n",
    "\n",
    "\n",
    "* Create a summary data frame to hold the results\n",
    "\n",
    "\n",
    "* Sort the total purchase value column in descending order\n",
    "\n",
    "\n",
    "* Optional: give the displayed data cleaner formatting\n",
    "\n",
    "\n",
    "* Display a preview of the summary data frame\n",
    "\n"
   ]
  },
  {
   "cell_type": "code",
   "execution_count": 9,
   "metadata": {},
   "outputs": [
    {
     "data": {
      "text/html": [
       "<style  type=\"text/css\" >\n",
       "</style><table id=\"T_baac6a42_e8dc_11ea_9912_7085c2b270a2\" ><thead>    <tr>        <th class=\"blank\" ></th>        <th class=\"blank\" ></th>        <th class=\"blank level0\" ></th>        <th class=\"col_heading level0 col0\" >Number of Purchases</th>        <th class=\"col_heading level0 col1\" >Average Purchase Price</th>        <th class=\"col_heading level0 col2\" >Total Purchase Value</th>    </tr>    <tr>        <th class=\"index_name level0\" >SN</th>        <th class=\"index_name level1\" >Age</th>        <th class=\"index_name level2\" >Gender</th>        <th class=\"blank\" ></th>        <th class=\"blank\" ></th>        <th class=\"blank\" ></th>    </tr></thead><tbody>\n",
       "                <tr>\n",
       "                        <th id=\"T_baac6a42_e8dc_11ea_9912_7085c2b270a2level0_row0\" class=\"row_heading level0 row0\" >Lisosia93</th>\n",
       "                        <th id=\"T_baac6a42_e8dc_11ea_9912_7085c2b270a2level1_row0\" class=\"row_heading level1 row0\" >25</th>\n",
       "                        <th id=\"T_baac6a42_e8dc_11ea_9912_7085c2b270a2level2_row0\" class=\"row_heading level2 row0\" >Male</th>\n",
       "                        <td id=\"T_baac6a42_e8dc_11ea_9912_7085c2b270a2row0_col0\" class=\"data row0 col0\" >5</td>\n",
       "                        <td id=\"T_baac6a42_e8dc_11ea_9912_7085c2b270a2row0_col1\" class=\"data row0 col1\" >$3.79</td>\n",
       "                        <td id=\"T_baac6a42_e8dc_11ea_9912_7085c2b270a2row0_col2\" class=\"data row0 col2\" >$18.96</td>\n",
       "            </tr>\n",
       "            <tr>\n",
       "                        <th id=\"T_baac6a42_e8dc_11ea_9912_7085c2b270a2level0_row1\" class=\"row_heading level0 row1\" >Idastidru52</th>\n",
       "                        <th id=\"T_baac6a42_e8dc_11ea_9912_7085c2b270a2level1_row1\" class=\"row_heading level1 row1\" >24</th>\n",
       "                        <th id=\"T_baac6a42_e8dc_11ea_9912_7085c2b270a2level2_row1\" class=\"row_heading level2 row1\" >Male</th>\n",
       "                        <td id=\"T_baac6a42_e8dc_11ea_9912_7085c2b270a2row1_col0\" class=\"data row1 col0\" >4</td>\n",
       "                        <td id=\"T_baac6a42_e8dc_11ea_9912_7085c2b270a2row1_col1\" class=\"data row1 col1\" >$3.86</td>\n",
       "                        <td id=\"T_baac6a42_e8dc_11ea_9912_7085c2b270a2row1_col2\" class=\"data row1 col2\" >$15.45</td>\n",
       "            </tr>\n",
       "            <tr>\n",
       "                        <th id=\"T_baac6a42_e8dc_11ea_9912_7085c2b270a2level0_row2\" class=\"row_heading level0 row2\" >Chamjask73</th>\n",
       "                        <th id=\"T_baac6a42_e8dc_11ea_9912_7085c2b270a2level1_row2\" class=\"row_heading level1 row2\" >22</th>\n",
       "                        <th id=\"T_baac6a42_e8dc_11ea_9912_7085c2b270a2level2_row2\" class=\"row_heading level2 row2\" >Female</th>\n",
       "                        <td id=\"T_baac6a42_e8dc_11ea_9912_7085c2b270a2row2_col0\" class=\"data row2 col0\" >3</td>\n",
       "                        <td id=\"T_baac6a42_e8dc_11ea_9912_7085c2b270a2row2_col1\" class=\"data row2 col1\" >$4.61</td>\n",
       "                        <td id=\"T_baac6a42_e8dc_11ea_9912_7085c2b270a2row2_col2\" class=\"data row2 col2\" >$13.83</td>\n",
       "            </tr>\n",
       "    </tbody></table>"
      ],
      "text/plain": [
       "<pandas.io.formats.style.Styler at 0x1efcd1498b0>"
      ]
     },
     "execution_count": 9,
     "metadata": {},
     "output_type": "execute_result"
    }
   ],
   "source": [
    "#groupby\n",
    "whale_stats_df = df.groupby([\"SN\", \"Age\", \"Gender\"])\n",
    "#calculations\n",
    "whale_purchase_count = whale_stats_df[\"Purchase ID\"].count()\n",
    "whale_average_purchase = whale_stats_df[\"Price\"].mean()\n",
    "whale_purchase_total = whale_stats_df[\"Price\"].sum()\n",
    "\n",
    "#create dataframe\n",
    "whale_summary_df = pd.DataFrame({\"Number of Purchases\": whale_purchase_count, \n",
    "                                 \"Average Purchase Price\": whale_average_purchase,\n",
    "                                 \"Total Purchase Value\": whale_purchase_total})\n",
    "#clean it up\n",
    "whale_summary_df = whale_summary_df.sort_values([\"Total Purchase Value\"], ascending=False).head(3)\n",
    "whale_summary_df = whale_summary_df.style.format({\"Average Purchase Price\":\"${:,.2f}\", \n",
    "                                                  \"Total Purchase Value\":\"${:,.2f}\"})\n",
    "whale_summary_df\n"
   ]
  },
  {
   "cell_type": "markdown",
   "metadata": {},
   "source": [
    "## Most Popular Items"
   ]
  },
  {
   "cell_type": "markdown",
   "metadata": {},
   "source": [
    "* Retrieve the Item ID, Item Name, and Item Price columns\n",
    "\n",
    "\n",
    "* Group by Item ID and Item Name. Perform calculations to obtain purchase count, item price, and total purchase value\n",
    "\n",
    "\n",
    "* Create a summary data frame to hold the results\n",
    "\n",
    "\n",
    "* Sort the purchase count column in descending order\n",
    "\n",
    "\n",
    "* Optional: give the displayed data cleaner formatting\n",
    "\n",
    "\n",
    "* Display a preview of the summary data frame\n",
    "\n"
   ]
  },
  {
   "cell_type": "code",
   "execution_count": 10,
   "metadata": {},
   "outputs": [
    {
     "data": {
      "text/html": [
       "<style  type=\"text/css\" >\n",
       "</style><table id=\"T_baaeb451_e8dc_11ea_9ff6_7085c2b270a2\" ><thead>    <tr>        <th class=\"blank\" ></th>        <th class=\"blank level0\" ></th>        <th class=\"col_heading level0 col0\" >Purchase Count</th>        <th class=\"col_heading level0 col1\" >Item Price</th>        <th class=\"col_heading level0 col2\" >Purchase Value Total</th>    </tr>    <tr>        <th class=\"index_name level0\" >Item ID</th>        <th class=\"index_name level1\" >Item Name</th>        <th class=\"blank\" ></th>        <th class=\"blank\" ></th>        <th class=\"blank\" ></th>    </tr></thead><tbody>\n",
       "                <tr>\n",
       "                        <th id=\"T_baaeb451_e8dc_11ea_9ff6_7085c2b270a2level0_row0\" class=\"row_heading level0 row0\" >92</th>\n",
       "                        <th id=\"T_baaeb451_e8dc_11ea_9ff6_7085c2b270a2level1_row0\" class=\"row_heading level1 row0\" >Final Critic</th>\n",
       "                        <td id=\"T_baaeb451_e8dc_11ea_9ff6_7085c2b270a2row0_col0\" class=\"data row0 col0\" >13</td>\n",
       "                        <td id=\"T_baaeb451_e8dc_11ea_9ff6_7085c2b270a2row0_col1\" class=\"data row0 col1\" >$4.61</td>\n",
       "                        <td id=\"T_baaeb451_e8dc_11ea_9ff6_7085c2b270a2row0_col2\" class=\"data row0 col2\" >$59.99</td>\n",
       "            </tr>\n",
       "            <tr>\n",
       "                        <th id=\"T_baaeb451_e8dc_11ea_9ff6_7085c2b270a2level0_row1\" class=\"row_heading level0 row1\" >178</th>\n",
       "                        <th id=\"T_baaeb451_e8dc_11ea_9ff6_7085c2b270a2level1_row1\" class=\"row_heading level1 row1\" >Oathbreaker, Last Hope of the Breaking Storm</th>\n",
       "                        <td id=\"T_baaeb451_e8dc_11ea_9ff6_7085c2b270a2row1_col0\" class=\"data row1 col0\" >12</td>\n",
       "                        <td id=\"T_baaeb451_e8dc_11ea_9ff6_7085c2b270a2row1_col1\" class=\"data row1 col1\" >$4.23</td>\n",
       "                        <td id=\"T_baaeb451_e8dc_11ea_9ff6_7085c2b270a2row1_col2\" class=\"data row1 col2\" >$50.76</td>\n",
       "            </tr>\n",
       "            <tr>\n",
       "                        <th id=\"T_baaeb451_e8dc_11ea_9ff6_7085c2b270a2level0_row2\" class=\"row_heading level0 row2\" >145</th>\n",
       "                        <th id=\"T_baaeb451_e8dc_11ea_9ff6_7085c2b270a2level1_row2\" class=\"row_heading level1 row2\" >Fiery Glass Crusader</th>\n",
       "                        <td id=\"T_baaeb451_e8dc_11ea_9ff6_7085c2b270a2row2_col0\" class=\"data row2 col0\" >9</td>\n",
       "                        <td id=\"T_baaeb451_e8dc_11ea_9ff6_7085c2b270a2row2_col1\" class=\"data row2 col1\" >$4.58</td>\n",
       "                        <td id=\"T_baaeb451_e8dc_11ea_9ff6_7085c2b270a2row2_col2\" class=\"data row2 col2\" >$41.22</td>\n",
       "            </tr>\n",
       "            <tr>\n",
       "                        <th id=\"T_baaeb451_e8dc_11ea_9ff6_7085c2b270a2level0_row3\" class=\"row_heading level0 row3\" >132</th>\n",
       "                        <th id=\"T_baaeb451_e8dc_11ea_9ff6_7085c2b270a2level1_row3\" class=\"row_heading level1 row3\" >Persuasion</th>\n",
       "                        <td id=\"T_baaeb451_e8dc_11ea_9ff6_7085c2b270a2row3_col0\" class=\"data row3 col0\" >9</td>\n",
       "                        <td id=\"T_baaeb451_e8dc_11ea_9ff6_7085c2b270a2row3_col1\" class=\"data row3 col1\" >$3.22</td>\n",
       "                        <td id=\"T_baaeb451_e8dc_11ea_9ff6_7085c2b270a2row3_col2\" class=\"data row3 col2\" >$28.99</td>\n",
       "            </tr>\n",
       "            <tr>\n",
       "                        <th id=\"T_baaeb451_e8dc_11ea_9ff6_7085c2b270a2level0_row4\" class=\"row_heading level0 row4\" >108</th>\n",
       "                        <th id=\"T_baaeb451_e8dc_11ea_9ff6_7085c2b270a2level1_row4\" class=\"row_heading level1 row4\" >Extraction, Quickblade Of Trembling Hands</th>\n",
       "                        <td id=\"T_baaeb451_e8dc_11ea_9ff6_7085c2b270a2row4_col0\" class=\"data row4 col0\" >9</td>\n",
       "                        <td id=\"T_baaeb451_e8dc_11ea_9ff6_7085c2b270a2row4_col1\" class=\"data row4 col1\" >$3.53</td>\n",
       "                        <td id=\"T_baaeb451_e8dc_11ea_9ff6_7085c2b270a2row4_col2\" class=\"data row4 col2\" >$31.77</td>\n",
       "            </tr>\n",
       "            <tr>\n",
       "                        <th id=\"T_baaeb451_e8dc_11ea_9ff6_7085c2b270a2level0_row5\" class=\"row_heading level0 row5\" >82</th>\n",
       "                        <th id=\"T_baaeb451_e8dc_11ea_9ff6_7085c2b270a2level1_row5\" class=\"row_heading level1 row5\" >Nirvana</th>\n",
       "                        <td id=\"T_baaeb451_e8dc_11ea_9ff6_7085c2b270a2row5_col0\" class=\"data row5 col0\" >9</td>\n",
       "                        <td id=\"T_baaeb451_e8dc_11ea_9ff6_7085c2b270a2row5_col1\" class=\"data row5 col1\" >$4.90</td>\n",
       "                        <td id=\"T_baaeb451_e8dc_11ea_9ff6_7085c2b270a2row5_col2\" class=\"data row5 col2\" >$44.10</td>\n",
       "            </tr>\n",
       "            <tr>\n",
       "                        <th id=\"T_baaeb451_e8dc_11ea_9ff6_7085c2b270a2level0_row6\" class=\"row_heading level0 row6\" >75</th>\n",
       "                        <th id=\"T_baaeb451_e8dc_11ea_9ff6_7085c2b270a2level1_row6\" class=\"row_heading level1 row6\" >Brutality Ivory Warmace</th>\n",
       "                        <td id=\"T_baaeb451_e8dc_11ea_9ff6_7085c2b270a2row6_col0\" class=\"data row6 col0\" >8</td>\n",
       "                        <td id=\"T_baaeb451_e8dc_11ea_9ff6_7085c2b270a2row6_col1\" class=\"data row6 col1\" >$2.42</td>\n",
       "                        <td id=\"T_baaeb451_e8dc_11ea_9ff6_7085c2b270a2row6_col2\" class=\"data row6 col2\" >$19.36</td>\n",
       "            </tr>\n",
       "            <tr>\n",
       "                        <th id=\"T_baaeb451_e8dc_11ea_9ff6_7085c2b270a2level0_row7\" class=\"row_heading level0 row7\" >103</th>\n",
       "                        <th id=\"T_baaeb451_e8dc_11ea_9ff6_7085c2b270a2level1_row7\" class=\"row_heading level1 row7\" >Singed Scalpel</th>\n",
       "                        <td id=\"T_baaeb451_e8dc_11ea_9ff6_7085c2b270a2row7_col0\" class=\"data row7 col0\" >8</td>\n",
       "                        <td id=\"T_baaeb451_e8dc_11ea_9ff6_7085c2b270a2row7_col1\" class=\"data row7 col1\" >$4.35</td>\n",
       "                        <td id=\"T_baaeb451_e8dc_11ea_9ff6_7085c2b270a2row7_col2\" class=\"data row7 col2\" >$34.80</td>\n",
       "            </tr>\n",
       "            <tr>\n",
       "                        <th id=\"T_baaeb451_e8dc_11ea_9ff6_7085c2b270a2level0_row8\" class=\"row_heading level0 row8\" >34</th>\n",
       "                        <th id=\"T_baaeb451_e8dc_11ea_9ff6_7085c2b270a2level1_row8\" class=\"row_heading level1 row8\" >Retribution Axe</th>\n",
       "                        <td id=\"T_baaeb451_e8dc_11ea_9ff6_7085c2b270a2row8_col0\" class=\"data row8 col0\" >8</td>\n",
       "                        <td id=\"T_baaeb451_e8dc_11ea_9ff6_7085c2b270a2row8_col1\" class=\"data row8 col1\" >$2.22</td>\n",
       "                        <td id=\"T_baaeb451_e8dc_11ea_9ff6_7085c2b270a2row8_col2\" class=\"data row8 col2\" >$17.76</td>\n",
       "            </tr>\n",
       "            <tr>\n",
       "                        <th id=\"T_baaeb451_e8dc_11ea_9ff6_7085c2b270a2level0_row9\" class=\"row_heading level0 row9\" >37</th>\n",
       "                        <th id=\"T_baaeb451_e8dc_11ea_9ff6_7085c2b270a2level1_row9\" class=\"row_heading level1 row9\" >Shadow Strike, Glory of Ending Hope</th>\n",
       "                        <td id=\"T_baaeb451_e8dc_11ea_9ff6_7085c2b270a2row9_col0\" class=\"data row9 col0\" >8</td>\n",
       "                        <td id=\"T_baaeb451_e8dc_11ea_9ff6_7085c2b270a2row9_col1\" class=\"data row9 col1\" >$3.16</td>\n",
       "                        <td id=\"T_baaeb451_e8dc_11ea_9ff6_7085c2b270a2row9_col2\" class=\"data row9 col2\" >$25.28</td>\n",
       "            </tr>\n",
       "    </tbody></table>"
      ],
      "text/plain": [
       "<pandas.io.formats.style.Styler at 0x1efcd114550>"
      ]
     },
     "execution_count": 10,
     "metadata": {},
     "output_type": "execute_result"
    }
   ],
   "source": [
    "item_df = df[[\"Item ID\", \"Item Name\", \"Price\"]]\n",
    "item_stats = item_df.groupby([\"Item ID\", \"Item Name\"])\n",
    "\n",
    "#calculations\n",
    "item_purchase_count = item_stats[\"Item ID\"].count()\n",
    "item_purchase_value = item_stats[\"Price\"].sum()\n",
    "item_price = item_purchase_value/item_purchase_count\n",
    "#create dataframe\n",
    "popular_items_df = pd.DataFrame({\"Purchase Count\": item_purchase_count,\n",
    "                                 \"Item Price\": item_price,\n",
    "                                 \"Purchase Value Total\": item_purchase_value})\n",
    "#sort values and clean it up\n",
    "popular_items_df = popular_items_df.sort_values([\"Purchase Count\"], ascending=False).head(10)\n",
    "popular_items_df = popular_items_df.style.format({\"Item Price\":\"${:,.2f}\",\n",
    "                                                  \"Purchase Value Total\":\"${:,.2f}\"})\n",
    "popular_items_df"
   ]
  },
  {
   "cell_type": "markdown",
   "metadata": {},
   "source": [
    "## Most Profitable Items"
   ]
  },
  {
   "cell_type": "markdown",
   "metadata": {},
   "source": [
    "* Sort the above table by total purchase value in descending order\n",
    "\n",
    "\n",
    "* Optional: give the displayed data cleaner formatting\n",
    "\n",
    "\n",
    "* Display a preview of the data frame\n",
    "\n"
   ]
  },
  {
   "cell_type": "code",
   "execution_count": 11,
   "metadata": {
    "scrolled": true
   },
   "outputs": [
    {
     "data": {
      "text/html": [
       "<style  type=\"text/css\" >\n",
       "</style><table id=\"T_bab14c8a_e8dc_11ea_b241_7085c2b270a2\" ><thead>    <tr>        <th class=\"blank\" ></th>        <th class=\"blank level0\" ></th>        <th class=\"col_heading level0 col0\" >Purchase Count</th>        <th class=\"col_heading level0 col1\" >Item Price</th>        <th class=\"col_heading level0 col2\" >Purchase Value Total</th>    </tr>    <tr>        <th class=\"index_name level0\" >Item ID</th>        <th class=\"index_name level1\" >Item Name</th>        <th class=\"blank\" ></th>        <th class=\"blank\" ></th>        <th class=\"blank\" ></th>    </tr></thead><tbody>\n",
       "                <tr>\n",
       "                        <th id=\"T_bab14c8a_e8dc_11ea_b241_7085c2b270a2level0_row0\" class=\"row_heading level0 row0\" >92</th>\n",
       "                        <th id=\"T_bab14c8a_e8dc_11ea_b241_7085c2b270a2level1_row0\" class=\"row_heading level1 row0\" >Final Critic</th>\n",
       "                        <td id=\"T_bab14c8a_e8dc_11ea_b241_7085c2b270a2row0_col0\" class=\"data row0 col0\" >13</td>\n",
       "                        <td id=\"T_bab14c8a_e8dc_11ea_b241_7085c2b270a2row0_col1\" class=\"data row0 col1\" >$4.61</td>\n",
       "                        <td id=\"T_bab14c8a_e8dc_11ea_b241_7085c2b270a2row0_col2\" class=\"data row0 col2\" >$59.99</td>\n",
       "            </tr>\n",
       "            <tr>\n",
       "                        <th id=\"T_bab14c8a_e8dc_11ea_b241_7085c2b270a2level0_row1\" class=\"row_heading level0 row1\" >178</th>\n",
       "                        <th id=\"T_bab14c8a_e8dc_11ea_b241_7085c2b270a2level1_row1\" class=\"row_heading level1 row1\" >Oathbreaker, Last Hope of the Breaking Storm</th>\n",
       "                        <td id=\"T_bab14c8a_e8dc_11ea_b241_7085c2b270a2row1_col0\" class=\"data row1 col0\" >12</td>\n",
       "                        <td id=\"T_bab14c8a_e8dc_11ea_b241_7085c2b270a2row1_col1\" class=\"data row1 col1\" >$4.23</td>\n",
       "                        <td id=\"T_bab14c8a_e8dc_11ea_b241_7085c2b270a2row1_col2\" class=\"data row1 col2\" >$50.76</td>\n",
       "            </tr>\n",
       "            <tr>\n",
       "                        <th id=\"T_bab14c8a_e8dc_11ea_b241_7085c2b270a2level0_row2\" class=\"row_heading level0 row2\" >82</th>\n",
       "                        <th id=\"T_bab14c8a_e8dc_11ea_b241_7085c2b270a2level1_row2\" class=\"row_heading level1 row2\" >Nirvana</th>\n",
       "                        <td id=\"T_bab14c8a_e8dc_11ea_b241_7085c2b270a2row2_col0\" class=\"data row2 col0\" >9</td>\n",
       "                        <td id=\"T_bab14c8a_e8dc_11ea_b241_7085c2b270a2row2_col1\" class=\"data row2 col1\" >$4.90</td>\n",
       "                        <td id=\"T_bab14c8a_e8dc_11ea_b241_7085c2b270a2row2_col2\" class=\"data row2 col2\" >$44.10</td>\n",
       "            </tr>\n",
       "            <tr>\n",
       "                        <th id=\"T_bab14c8a_e8dc_11ea_b241_7085c2b270a2level0_row3\" class=\"row_heading level0 row3\" >145</th>\n",
       "                        <th id=\"T_bab14c8a_e8dc_11ea_b241_7085c2b270a2level1_row3\" class=\"row_heading level1 row3\" >Fiery Glass Crusader</th>\n",
       "                        <td id=\"T_bab14c8a_e8dc_11ea_b241_7085c2b270a2row3_col0\" class=\"data row3 col0\" >9</td>\n",
       "                        <td id=\"T_bab14c8a_e8dc_11ea_b241_7085c2b270a2row3_col1\" class=\"data row3 col1\" >$4.58</td>\n",
       "                        <td id=\"T_bab14c8a_e8dc_11ea_b241_7085c2b270a2row3_col2\" class=\"data row3 col2\" >$41.22</td>\n",
       "            </tr>\n",
       "            <tr>\n",
       "                        <th id=\"T_bab14c8a_e8dc_11ea_b241_7085c2b270a2level0_row4\" class=\"row_heading level0 row4\" >103</th>\n",
       "                        <th id=\"T_bab14c8a_e8dc_11ea_b241_7085c2b270a2level1_row4\" class=\"row_heading level1 row4\" >Singed Scalpel</th>\n",
       "                        <td id=\"T_bab14c8a_e8dc_11ea_b241_7085c2b270a2row4_col0\" class=\"data row4 col0\" >8</td>\n",
       "                        <td id=\"T_bab14c8a_e8dc_11ea_b241_7085c2b270a2row4_col1\" class=\"data row4 col1\" >$4.35</td>\n",
       "                        <td id=\"T_bab14c8a_e8dc_11ea_b241_7085c2b270a2row4_col2\" class=\"data row4 col2\" >$34.80</td>\n",
       "            </tr>\n",
       "            <tr>\n",
       "                        <th id=\"T_bab14c8a_e8dc_11ea_b241_7085c2b270a2level0_row5\" class=\"row_heading level0 row5\" >59</th>\n",
       "                        <th id=\"T_bab14c8a_e8dc_11ea_b241_7085c2b270a2level1_row5\" class=\"row_heading level1 row5\" >Lightning, Etcher of the King</th>\n",
       "                        <td id=\"T_bab14c8a_e8dc_11ea_b241_7085c2b270a2row5_col0\" class=\"data row5 col0\" >8</td>\n",
       "                        <td id=\"T_bab14c8a_e8dc_11ea_b241_7085c2b270a2row5_col1\" class=\"data row5 col1\" >$4.23</td>\n",
       "                        <td id=\"T_bab14c8a_e8dc_11ea_b241_7085c2b270a2row5_col2\" class=\"data row5 col2\" >$33.84</td>\n",
       "            </tr>\n",
       "            <tr>\n",
       "                        <th id=\"T_bab14c8a_e8dc_11ea_b241_7085c2b270a2level0_row6\" class=\"row_heading level0 row6\" >108</th>\n",
       "                        <th id=\"T_bab14c8a_e8dc_11ea_b241_7085c2b270a2level1_row6\" class=\"row_heading level1 row6\" >Extraction, Quickblade Of Trembling Hands</th>\n",
       "                        <td id=\"T_bab14c8a_e8dc_11ea_b241_7085c2b270a2row6_col0\" class=\"data row6 col0\" >9</td>\n",
       "                        <td id=\"T_bab14c8a_e8dc_11ea_b241_7085c2b270a2row6_col1\" class=\"data row6 col1\" >$3.53</td>\n",
       "                        <td id=\"T_bab14c8a_e8dc_11ea_b241_7085c2b270a2row6_col2\" class=\"data row6 col2\" >$31.77</td>\n",
       "            </tr>\n",
       "            <tr>\n",
       "                        <th id=\"T_bab14c8a_e8dc_11ea_b241_7085c2b270a2level0_row7\" class=\"row_heading level0 row7\" >78</th>\n",
       "                        <th id=\"T_bab14c8a_e8dc_11ea_b241_7085c2b270a2level1_row7\" class=\"row_heading level1 row7\" >Glimmer, Ender of the Moon</th>\n",
       "                        <td id=\"T_bab14c8a_e8dc_11ea_b241_7085c2b270a2row7_col0\" class=\"data row7 col0\" >7</td>\n",
       "                        <td id=\"T_bab14c8a_e8dc_11ea_b241_7085c2b270a2row7_col1\" class=\"data row7 col1\" >$4.40</td>\n",
       "                        <td id=\"T_bab14c8a_e8dc_11ea_b241_7085c2b270a2row7_col2\" class=\"data row7 col2\" >$30.80</td>\n",
       "            </tr>\n",
       "            <tr>\n",
       "                        <th id=\"T_bab14c8a_e8dc_11ea_b241_7085c2b270a2level0_row8\" class=\"row_heading level0 row8\" >72</th>\n",
       "                        <th id=\"T_bab14c8a_e8dc_11ea_b241_7085c2b270a2level1_row8\" class=\"row_heading level1 row8\" >Winter's Bite</th>\n",
       "                        <td id=\"T_bab14c8a_e8dc_11ea_b241_7085c2b270a2row8_col0\" class=\"data row8 col0\" >8</td>\n",
       "                        <td id=\"T_bab14c8a_e8dc_11ea_b241_7085c2b270a2row8_col1\" class=\"data row8 col1\" >$3.77</td>\n",
       "                        <td id=\"T_bab14c8a_e8dc_11ea_b241_7085c2b270a2row8_col2\" class=\"data row8 col2\" >$30.16</td>\n",
       "            </tr>\n",
       "            <tr>\n",
       "                        <th id=\"T_bab14c8a_e8dc_11ea_b241_7085c2b270a2level0_row9\" class=\"row_heading level0 row9\" >132</th>\n",
       "                        <th id=\"T_bab14c8a_e8dc_11ea_b241_7085c2b270a2level1_row9\" class=\"row_heading level1 row9\" >Persuasion</th>\n",
       "                        <td id=\"T_bab14c8a_e8dc_11ea_b241_7085c2b270a2row9_col0\" class=\"data row9 col0\" >9</td>\n",
       "                        <td id=\"T_bab14c8a_e8dc_11ea_b241_7085c2b270a2row9_col1\" class=\"data row9 col1\" >$3.22</td>\n",
       "                        <td id=\"T_bab14c8a_e8dc_11ea_b241_7085c2b270a2row9_col2\" class=\"data row9 col2\" >$28.99</td>\n",
       "            </tr>\n",
       "    </tbody></table>"
      ],
      "text/plain": [
       "<pandas.io.formats.style.Styler at 0x1efcd0fff70>"
      ]
     },
     "execution_count": 11,
     "metadata": {},
     "output_type": "execute_result"
    }
   ],
   "source": [
    "item_df = df[[\"Item ID\", \"Item Name\", \"Price\"]]\n",
    "item_stats = item_df.groupby([\"Item ID\", \"Item Name\"])\n",
    "\n",
    "#calculations\n",
    "item_purchase_count = item_stats[\"Item ID\"].count()\n",
    "item_purchase_value = item_stats[\"Price\"].sum()\n",
    "item_price = item_purchase_value/item_purchase_count\n",
    "#create dataframe\n",
    "popular_items_total_df = pd.DataFrame({\"Purchase Count\": item_purchase_count,\n",
    "                                       \"Item Price\": item_price,\n",
    "                                       \"Purchase Value Total\": item_purchase_value})\n",
    "#sort values and clean it up\n",
    "popular_items_total_df = popular_items_total_df.sort_values([\"Purchase Value Total\"], ascending=False).head(10)\n",
    "popular_items_total_df = popular_items_total_df.style.format({\"Item Price\":\"${:,.2f}\",\n",
    "                                                              \"Purchase Value Total\":\"${:,.2f}\"})\n",
    "popular_items_total_df"
   ]
  },
  {
   "cell_type": "code",
   "execution_count": null,
   "metadata": {},
   "outputs": [],
   "source": []
  }
 ],
 "metadata": {
  "anaconda-cloud": {},
  "kernel_info": {
   "name": "python3"
  },
  "kernelspec": {
   "display_name": "Python 3",
   "language": "python",
   "name": "python3"
  },
  "language_info": {
   "codemirror_mode": {
    "name": "ipython",
    "version": 3
   },
   "file_extension": ".py",
   "mimetype": "text/x-python",
   "name": "python",
   "nbconvert_exporter": "python",
   "pygments_lexer": "ipython3",
   "version": "3.8.3"
  },
  "latex_envs": {
   "LaTeX_envs_menu_present": true,
   "autoclose": false,
   "autocomplete": true,
   "bibliofile": "biblio.bib",
   "cite_by": "apalike",
   "current_citInitial": 1,
   "eqLabelWithNumbers": true,
   "eqNumInitial": 1,
   "hotkeys": {
    "equation": "Ctrl-E",
    "itemize": "Ctrl-I"
   },
   "labels_anchors": false,
   "latex_user_defs": false,
   "report_style_numbering": false,
   "user_envs_cfg": false
  },
  "nteract": {
   "version": "0.2.0"
  }
 },
 "nbformat": 4,
 "nbformat_minor": 2
}
