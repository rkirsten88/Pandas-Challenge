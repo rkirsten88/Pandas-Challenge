{
 "cells": [
  {
   "cell_type": "markdown",
   "metadata": {},
   "source": [
    "### Note\n",
    "* Instructions have been included for each segment. You do not have to follow them exactly, but they are included to help you think through the steps."
   ]
  },
  {
   "cell_type": "code",
   "execution_count": 23,
   "metadata": {},
   "outputs": [],
   "source": [
    "# Dependencies and Setup\n",
    "import pandas as pd\n",
    "\n",
    "# File to Load (Remember to Change These)\n",
    "heroes_path = \"Resources/purchase_data.csv\"\n",
    "\n",
    "# Read Purchasing File and store into Pandas data frame\n",
    "df = pd.read_csv(heroes_path)"
   ]
  },
  {
   "cell_type": "code",
   "execution_count": 24,
   "metadata": {},
   "outputs": [
    {
     "data": {
      "text/html": [
       "<div>\n",
       "<style scoped>\n",
       "    .dataframe tbody tr th:only-of-type {\n",
       "        vertical-align: middle;\n",
       "    }\n",
       "\n",
       "    .dataframe tbody tr th {\n",
       "        vertical-align: top;\n",
       "    }\n",
       "\n",
       "    .dataframe thead th {\n",
       "        text-align: right;\n",
       "    }\n",
       "</style>\n",
       "<table border=\"1\" class=\"dataframe\">\n",
       "  <thead>\n",
       "    <tr style=\"text-align: right;\">\n",
       "      <th></th>\n",
       "      <th>Purchase ID</th>\n",
       "      <th>SN</th>\n",
       "      <th>Age</th>\n",
       "      <th>Gender</th>\n",
       "      <th>Item ID</th>\n",
       "      <th>Item Name</th>\n",
       "      <th>Price</th>\n",
       "    </tr>\n",
       "  </thead>\n",
       "  <tbody>\n",
       "    <tr>\n",
       "      <th>0</th>\n",
       "      <td>0</td>\n",
       "      <td>Lisim78</td>\n",
       "      <td>20</td>\n",
       "      <td>Male</td>\n",
       "      <td>108</td>\n",
       "      <td>Extraction, Quickblade Of Trembling Hands</td>\n",
       "      <td>3.53</td>\n",
       "    </tr>\n",
       "    <tr>\n",
       "      <th>1</th>\n",
       "      <td>1</td>\n",
       "      <td>Lisovynya38</td>\n",
       "      <td>40</td>\n",
       "      <td>Male</td>\n",
       "      <td>143</td>\n",
       "      <td>Frenzied Scimitar</td>\n",
       "      <td>1.56</td>\n",
       "    </tr>\n",
       "    <tr>\n",
       "      <th>2</th>\n",
       "      <td>2</td>\n",
       "      <td>Ithergue48</td>\n",
       "      <td>24</td>\n",
       "      <td>Male</td>\n",
       "      <td>92</td>\n",
       "      <td>Final Critic</td>\n",
       "      <td>4.88</td>\n",
       "    </tr>\n",
       "    <tr>\n",
       "      <th>3</th>\n",
       "      <td>3</td>\n",
       "      <td>Chamassasya86</td>\n",
       "      <td>24</td>\n",
       "      <td>Male</td>\n",
       "      <td>100</td>\n",
       "      <td>Blindscythe</td>\n",
       "      <td>3.27</td>\n",
       "    </tr>\n",
       "    <tr>\n",
       "      <th>4</th>\n",
       "      <td>4</td>\n",
       "      <td>Iskosia90</td>\n",
       "      <td>23</td>\n",
       "      <td>Male</td>\n",
       "      <td>131</td>\n",
       "      <td>Fury</td>\n",
       "      <td>1.44</td>\n",
       "    </tr>\n",
       "  </tbody>\n",
       "</table>\n",
       "</div>"
      ],
      "text/plain": [
       "   Purchase ID             SN  Age Gender  Item ID  \\\n",
       "0            0        Lisim78   20   Male      108   \n",
       "1            1    Lisovynya38   40   Male      143   \n",
       "2            2     Ithergue48   24   Male       92   \n",
       "3            3  Chamassasya86   24   Male      100   \n",
       "4            4      Iskosia90   23   Male      131   \n",
       "\n",
       "                                   Item Name  Price  \n",
       "0  Extraction, Quickblade Of Trembling Hands   3.53  \n",
       "1                          Frenzied Scimitar   1.56  \n",
       "2                               Final Critic   4.88  \n",
       "3                                Blindscythe   3.27  \n",
       "4                                       Fury   1.44  "
      ]
     },
     "execution_count": 24,
     "metadata": {},
     "output_type": "execute_result"
    }
   ],
   "source": [
    "df.head()"
   ]
  },
  {
   "cell_type": "markdown",
   "metadata": {},
   "source": [
    "## Player Count"
   ]
  },
  {
   "cell_type": "markdown",
   "metadata": {},
   "source": [
    "* Display the total number of players\n"
   ]
  },
  {
   "cell_type": "code",
   "execution_count": 25,
   "metadata": {},
   "outputs": [
    {
     "data": {
      "text/html": [
       "<div>\n",
       "<style scoped>\n",
       "    .dataframe tbody tr th:only-of-type {\n",
       "        vertical-align: middle;\n",
       "    }\n",
       "\n",
       "    .dataframe tbody tr th {\n",
       "        vertical-align: top;\n",
       "    }\n",
       "\n",
       "    .dataframe thead th {\n",
       "        text-align: right;\n",
       "    }\n",
       "</style>\n",
       "<table border=\"1\" class=\"dataframe\">\n",
       "  <thead>\n",
       "    <tr style=\"text-align: right;\">\n",
       "      <th></th>\n",
       "      <th>Total Players</th>\n",
       "    </tr>\n",
       "  </thead>\n",
       "  <tbody>\n",
       "    <tr>\n",
       "      <th>0</th>\n",
       "      <td>576</td>\n",
       "    </tr>\n",
       "  </tbody>\n",
       "</table>\n",
       "</div>"
      ],
      "text/plain": [
       "   Total Players\n",
       "0            576"
      ]
     },
     "execution_count": 25,
     "metadata": {},
     "output_type": "execute_result"
    }
   ],
   "source": [
    "#display total. use length and .unique to count number of unique names and add to new dataframe\n",
    "total_players = len(df[\"SN\"].unique())\n",
    "total_players_df = pd.DataFrame({\"Total Players\": [total_players]})\n",
    "total_players_df"
   ]
  },
  {
   "cell_type": "markdown",
   "metadata": {},
   "source": [
    "## Purchasing Analysis (Total)"
   ]
  },
  {
   "cell_type": "markdown",
   "metadata": {},
   "source": [
    "* Run basic calculations to obtain number of unique items, average price, etc.\n",
    "\n",
    "\n",
    "* Create a summary data frame to hold the results\n",
    "\n",
    "\n",
    "* Optional: give the displayed data cleaner formatting\n",
    "\n",
    "\n",
    "* Display the summary data frame\n"
   ]
  },
  {
   "cell_type": "code",
   "execution_count": 26,
   "metadata": {
    "scrolled": true
   },
   "outputs": [
    {
     "name": "stdout",
     "output_type": "stream",
     "text": [
      "[179, 3.050987179487176, 780, 2379.77]\n"
     ]
    }
   ],
   "source": [
    "#calculate number of unique items, average price, number of purchases, and total revenue\n",
    "unique_items = df[\"Item ID\"].nunique()\n",
    "average_price = df[\"Price\"].mean()\n",
    "number_purchases = df[\"Purchase ID\"].nunique()\n",
    "total_revenue = df[\"Price\"].sum()\n",
    "#store data for easier index lookup later\n",
    "purchase_data = [unique_items, average_price, number_purchases, total_revenue]\n",
    "print(purchase_data)"
   ]
  },
  {
   "cell_type": "code",
   "execution_count": 27,
   "metadata": {},
   "outputs": [
    {
     "data": {
      "text/html": [
       "<div>\n",
       "<style scoped>\n",
       "    .dataframe tbody tr th:only-of-type {\n",
       "        vertical-align: middle;\n",
       "    }\n",
       "\n",
       "    .dataframe tbody tr th {\n",
       "        vertical-align: top;\n",
       "    }\n",
       "\n",
       "    .dataframe thead th {\n",
       "        text-align: right;\n",
       "    }\n",
       "</style>\n",
       "<table border=\"1\" class=\"dataframe\">\n",
       "  <thead>\n",
       "    <tr style=\"text-align: right;\">\n",
       "      <th></th>\n",
       "      <th>Average Purchase Price</th>\n",
       "      <th>Number of Purchases</th>\n",
       "      <th>Total Revenue</th>\n",
       "    </tr>\n",
       "    <tr>\n",
       "      <th>Number of Unique Items</th>\n",
       "      <th></th>\n",
       "      <th></th>\n",
       "      <th></th>\n",
       "    </tr>\n",
       "  </thead>\n",
       "  <tbody>\n",
       "    <tr>\n",
       "      <th>179</th>\n",
       "      <td>$3.05</td>\n",
       "      <td>780</td>\n",
       "      <td>$2,379.77</td>\n",
       "    </tr>\n",
       "  </tbody>\n",
       "</table>\n",
       "</div>"
      ],
      "text/plain": [
       "                       Average Purchase Price  Number of Purchases  \\\n",
       "Number of Unique Items                                               \n",
       "179                                     $3.05                  780   \n",
       "\n",
       "                       Total Revenue  \n",
       "Number of Unique Items                \n",
       "179                        $2,379.77  "
      ]
     },
     "execution_count": 27,
     "metadata": {},
     "output_type": "execute_result"
    }
   ],
   "source": [
    "#create new dataframe out of purchase_data\n",
    "purchase_summary_df = pd.DataFrame({\"Number of Unique Items\": [purchase_data[0]],\n",
    "                           \"Average Purchase Price\": [purchase_data[1]],\n",
    "                           \"Number of Purchases\": [purchase_data[2]],\n",
    "                           \"Total Revenue\": [purchase_data[3]]})                     \n",
    "#clean it up\n",
    "purchase_summary_df[\"Total Revenue\"] = purchase_summary_df[\"Total Revenue\"].astype(float).map(\"${:,.2f}\".format)\n",
    "purchase_summary_df[\"Average Purchase Price\"] = purchase_summary_df[\"Average Purchase Price\"].astype(float).map(\"${:,.2f}\".format)\n",
    "purchase_summary_df = purchase_summary_df.set_index(\"Number of Unique Items\")\n",
    "\n",
    "#display\n",
    "purchase_summary_df"
   ]
  },
  {
   "cell_type": "markdown",
   "metadata": {},
   "source": [
    "## Gender Demographics"
   ]
  },
  {
   "cell_type": "markdown",
   "metadata": {},
   "source": [
    "* Percentage and Count of Male Players\n",
    "\n",
    "\n",
    "* Percentage and Count of Female Players\n",
    "\n",
    "\n",
    "* Percentage and Count of Other / Non-Disclosed\n",
    "\n",
    "\n"
   ]
  },
  {
   "cell_type": "code",
   "execution_count": 31,
   "metadata": {},
   "outputs": [
    {
     "data": {
      "text/html": [
       "<style  type=\"text/css\" >\n",
       "</style><table id=\"T_685e6667_e686_11ea_b7dc_7085c2b270a2\" ><thead>    <tr>        <th class=\"blank level0\" ></th>        <th class=\"col_heading level0 col0\" >Percentage of Players</th>        <th class=\"col_heading level0 col1\" >Total Count</th>    </tr></thead><tbody>\n",
       "                <tr>\n",
       "                        <th id=\"T_685e6667_e686_11ea_b7dc_7085c2b270a2level0_row0\" class=\"row_heading level0 row0\" >Male</th>\n",
       "                        <td id=\"T_685e6667_e686_11ea_b7dc_7085c2b270a2row0_col0\" class=\"data row0 col0\" >84.03 %</td>\n",
       "                        <td id=\"T_685e6667_e686_11ea_b7dc_7085c2b270a2row0_col1\" class=\"data row0 col1\" >484</td>\n",
       "            </tr>\n",
       "            <tr>\n",
       "                        <th id=\"T_685e6667_e686_11ea_b7dc_7085c2b270a2level0_row1\" class=\"row_heading level0 row1\" >Female</th>\n",
       "                        <td id=\"T_685e6667_e686_11ea_b7dc_7085c2b270a2row1_col0\" class=\"data row1 col0\" >14.06 %</td>\n",
       "                        <td id=\"T_685e6667_e686_11ea_b7dc_7085c2b270a2row1_col1\" class=\"data row1 col1\" >81</td>\n",
       "            </tr>\n",
       "            <tr>\n",
       "                        <th id=\"T_685e6667_e686_11ea_b7dc_7085c2b270a2level0_row2\" class=\"row_heading level0 row2\" >Other / Non-Disclosed</th>\n",
       "                        <td id=\"T_685e6667_e686_11ea_b7dc_7085c2b270a2row2_col0\" class=\"data row2 col0\" >1.91 %</td>\n",
       "                        <td id=\"T_685e6667_e686_11ea_b7dc_7085c2b270a2row2_col1\" class=\"data row2 col1\" >11</td>\n",
       "            </tr>\n",
       "    </tbody></table>"
      ],
      "text/plain": [
       "<pandas.io.formats.style.Styler at 0x183e7e83e80>"
      ]
     },
     "execution_count": 31,
     "metadata": {},
     "output_type": "execute_result"
    }
   ],
   "source": [
    "#groupby gender\n",
    "gender_df = df.groupby(\"Gender\")\n",
    "\n",
    "#percentage calculations\n",
    "total_gender_count = gender_df[\"SN\"].nunique()\n",
    "percent_players = total_gender_count / total_players * 100\n",
    "\n",
    "# create new dataframe \n",
    "gender_demo_df = pd.DataFrame({\"Percentage of Players\": percent_players, \"Total Count\": total_gender_count})\n",
    "#clean it up\n",
    "gender_demo_df.index.name = None\n",
    "gender_demo_df = gender_demo_df.sort_values([\"Total Count\"], ascending = False).style.format({\"Percentage of Players\":\"{:.2f} %\"})\n",
    "gender_demo_df"
   ]
  },
  {
   "cell_type": "markdown",
   "metadata": {},
   "source": [
    "\n",
    "## Purchasing Analysis (Gender)"
   ]
  },
  {
   "cell_type": "markdown",
   "metadata": {},
   "source": [
    "* Run basic calculations to obtain purchase count, avg. purchase price, avg. purchase total per person etc. by gender\n",
    "\n",
    "\n",
    "\n",
    "\n",
    "* Create a summary data frame to hold the results\n",
    "\n",
    "\n",
    "* Optional: give the displayed data cleaner formatting\n",
    "\n",
    "\n",
    "* Display the summary data frame"
   ]
  },
  {
   "cell_type": "code",
   "execution_count": 37,
   "metadata": {},
   "outputs": [
    {
     "data": {
      "text/html": [
       "<style  type=\"text/css\" >\n",
       "</style><table id=\"T_15f90bd9_e687_11ea_8551_7085c2b270a2\" ><thead>    <tr>        <th class=\"blank level0\" ></th>        <th class=\"col_heading level0 col0\" >Purchase Count</th>        <th class=\"col_heading level0 col1\" >Average Purchase Price</th>        <th class=\"col_heading level0 col2\" >Average Purchase Total</th>        <th class=\"col_heading level0 col3\" >Avg Purchase Total / Person</th>    </tr></thead><tbody>\n",
       "                <tr>\n",
       "                        <th id=\"T_15f90bd9_e687_11ea_8551_7085c2b270a2level0_row0\" class=\"row_heading level0 row0\" >Male</th>\n",
       "                        <td id=\"T_15f90bd9_e687_11ea_8551_7085c2b270a2row0_col0\" class=\"data row0 col0\" >652</td>\n",
       "                        <td id=\"T_15f90bd9_e687_11ea_8551_7085c2b270a2row0_col1\" class=\"data row0 col1\" >$3.02</td>\n",
       "                        <td id=\"T_15f90bd9_e687_11ea_8551_7085c2b270a2row0_col2\" class=\"data row0 col2\" >$1,967.64</td>\n",
       "                        <td id=\"T_15f90bd9_e687_11ea_8551_7085c2b270a2row0_col3\" class=\"data row0 col3\" >$4.07</td>\n",
       "            </tr>\n",
       "            <tr>\n",
       "                        <th id=\"T_15f90bd9_e687_11ea_8551_7085c2b270a2level0_row1\" class=\"row_heading level0 row1\" >Female</th>\n",
       "                        <td id=\"T_15f90bd9_e687_11ea_8551_7085c2b270a2row1_col0\" class=\"data row1 col0\" >113</td>\n",
       "                        <td id=\"T_15f90bd9_e687_11ea_8551_7085c2b270a2row1_col1\" class=\"data row1 col1\" >$3.20</td>\n",
       "                        <td id=\"T_15f90bd9_e687_11ea_8551_7085c2b270a2row1_col2\" class=\"data row1 col2\" >$361.94</td>\n",
       "                        <td id=\"T_15f90bd9_e687_11ea_8551_7085c2b270a2row1_col3\" class=\"data row1 col3\" >$4.47</td>\n",
       "            </tr>\n",
       "            <tr>\n",
       "                        <th id=\"T_15f90bd9_e687_11ea_8551_7085c2b270a2level0_row2\" class=\"row_heading level0 row2\" >Other / Non-Disclosed</th>\n",
       "                        <td id=\"T_15f90bd9_e687_11ea_8551_7085c2b270a2row2_col0\" class=\"data row2 col0\" >15</td>\n",
       "                        <td id=\"T_15f90bd9_e687_11ea_8551_7085c2b270a2row2_col1\" class=\"data row2 col1\" >$3.35</td>\n",
       "                        <td id=\"T_15f90bd9_e687_11ea_8551_7085c2b270a2row2_col2\" class=\"data row2 col2\" >$50.19</td>\n",
       "                        <td id=\"T_15f90bd9_e687_11ea_8551_7085c2b270a2row2_col3\" class=\"data row2 col3\" >$4.56</td>\n",
       "            </tr>\n",
       "    </tbody></table>"
      ],
      "text/plain": [
       "<pandas.io.formats.style.Styler at 0x183e7e73280>"
      ]
     },
     "execution_count": 37,
     "metadata": {},
     "output_type": "execute_result"
    }
   ],
   "source": [
    "#purchases by gender\n",
    "purchase_count = gender_df[\"Purchase ID\"].count()\n",
    "#average total purchase by gender\n",
    "avg_purchase_total = gender_df[\"Price\"].sum()\n",
    "\n",
    "#average purchase prices by gender\n",
    "avg_purchase_price = gender_df[\"Price\"].mean()\n",
    "\n",
    "\n",
    "\n",
    "#average purchase total by gender/purchase count (unique shoppers calculated previously)\n",
    "avg_purchase_per_person = avg_purchase_total/total_gender_count\n",
    "\n",
    "#create new dataframe\n",
    "gender_purchase_demo_df = pd.DataFrame({\"Purchase Count\": purchase_count, \n",
    "                                    \"Average Purchase Price\": avg_purchase_price,\n",
    "                                    \"Average Purchase Total\": avg_purchase_total,\n",
    "                                    \"Avg Purchase Total / Person\": avg_purchase_per_person})\n",
    "\n",
    "#set new index to make it look prettier\n",
    "gender_purchase_demo_df.index.name = \"Gender\"\n",
    "gender_purchase_demo_df.index.name = None\n",
    "#clean it up\n",
    "gender_purchase_demo_df = gender_purchase_demo_df.sort_values([\"Purchase Count\"], ascending = False)\n",
    "gender_purchase_demo_df = gender_purchase_demo_df.style.format({\"Average Purchase Total\":\"${:,.2f}\",\n",
    "                                  \"Average Purchase Price\":\"${:,.2f}\",\n",
    "                                  \"Avg Purchase Total / Person\":\"${:,.2f}\"})\n",
    "gender_purchase_demo_df"
   ]
  },
  {
   "cell_type": "markdown",
   "metadata": {},
   "source": [
    "## Age Demographics"
   ]
  },
  {
   "cell_type": "markdown",
   "metadata": {},
   "source": [
    "* Establish bins for ages\n",
    "\n",
    "\n",
    "* Categorize the existing players using the age bins. Hint: use pd.cut()\n",
    "\n",
    "\n",
    "* Calculate the numbers and percentages by age group\n",
    "\n",
    "\n",
    "* Create a summary data frame to hold the results\n",
    "\n",
    "\n",
    "* Optional: round the percentage column to two decimal points\n",
    "\n",
    "\n",
    "* Display Age Demographics Table\n"
   ]
  },
  {
   "cell_type": "code",
   "execution_count": 73,
   "metadata": {},
   "outputs": [
    {
     "data": {
      "text/html": [
       "<style  type=\"text/css\" >\n",
       "</style><table id=\"T_05cb3ac0_e68a_11ea_a727_7085c2b270a2\" ><thead>    <tr>        <th class=\"blank level0\" ></th>        <th class=\"col_heading level0 col0\" >Players by Age</th>        <th class=\"col_heading level0 col1\" >Percentage by Age</th>    </tr></thead><tbody>\n",
       "                <tr>\n",
       "                        <th id=\"T_05cb3ac0_e68a_11ea_a727_7085c2b270a2level0_row0\" class=\"row_heading level0 row0\" ><10</th>\n",
       "                        <td id=\"T_05cb3ac0_e68a_11ea_a727_7085c2b270a2row0_col0\" class=\"data row0 col0\" >17</td>\n",
       "                        <td id=\"T_05cb3ac0_e68a_11ea_a727_7085c2b270a2row0_col1\" class=\"data row0 col1\" >2.95 %</td>\n",
       "            </tr>\n",
       "            <tr>\n",
       "                        <th id=\"T_05cb3ac0_e68a_11ea_a727_7085c2b270a2level0_row1\" class=\"row_heading level0 row1\" >10-14</th>\n",
       "                        <td id=\"T_05cb3ac0_e68a_11ea_a727_7085c2b270a2row1_col0\" class=\"data row1 col0\" >22</td>\n",
       "                        <td id=\"T_05cb3ac0_e68a_11ea_a727_7085c2b270a2row1_col1\" class=\"data row1 col1\" >3.82 %</td>\n",
       "            </tr>\n",
       "            <tr>\n",
       "                        <th id=\"T_05cb3ac0_e68a_11ea_a727_7085c2b270a2level0_row2\" class=\"row_heading level0 row2\" >15-19</th>\n",
       "                        <td id=\"T_05cb3ac0_e68a_11ea_a727_7085c2b270a2row2_col0\" class=\"data row2 col0\" >107</td>\n",
       "                        <td id=\"T_05cb3ac0_e68a_11ea_a727_7085c2b270a2row2_col1\" class=\"data row2 col1\" >18.58 %</td>\n",
       "            </tr>\n",
       "            <tr>\n",
       "                        <th id=\"T_05cb3ac0_e68a_11ea_a727_7085c2b270a2level0_row3\" class=\"row_heading level0 row3\" >20-24</th>\n",
       "                        <td id=\"T_05cb3ac0_e68a_11ea_a727_7085c2b270a2row3_col0\" class=\"data row3 col0\" >258</td>\n",
       "                        <td id=\"T_05cb3ac0_e68a_11ea_a727_7085c2b270a2row3_col1\" class=\"data row3 col1\" >44.79 %</td>\n",
       "            </tr>\n",
       "            <tr>\n",
       "                        <th id=\"T_05cb3ac0_e68a_11ea_a727_7085c2b270a2level0_row4\" class=\"row_heading level0 row4\" >25-29</th>\n",
       "                        <td id=\"T_05cb3ac0_e68a_11ea_a727_7085c2b270a2row4_col0\" class=\"data row4 col0\" >77</td>\n",
       "                        <td id=\"T_05cb3ac0_e68a_11ea_a727_7085c2b270a2row4_col1\" class=\"data row4 col1\" >13.37 %</td>\n",
       "            </tr>\n",
       "            <tr>\n",
       "                        <th id=\"T_05cb3ac0_e68a_11ea_a727_7085c2b270a2level0_row5\" class=\"row_heading level0 row5\" >30-34</th>\n",
       "                        <td id=\"T_05cb3ac0_e68a_11ea_a727_7085c2b270a2row5_col0\" class=\"data row5 col0\" >52</td>\n",
       "                        <td id=\"T_05cb3ac0_e68a_11ea_a727_7085c2b270a2row5_col1\" class=\"data row5 col1\" >9.03 %</td>\n",
       "            </tr>\n",
       "            <tr>\n",
       "                        <th id=\"T_05cb3ac0_e68a_11ea_a727_7085c2b270a2level0_row6\" class=\"row_heading level0 row6\" >35-39</th>\n",
       "                        <td id=\"T_05cb3ac0_e68a_11ea_a727_7085c2b270a2row6_col0\" class=\"data row6 col0\" >31</td>\n",
       "                        <td id=\"T_05cb3ac0_e68a_11ea_a727_7085c2b270a2row6_col1\" class=\"data row6 col1\" >5.38 %</td>\n",
       "            </tr>\n",
       "            <tr>\n",
       "                        <th id=\"T_05cb3ac0_e68a_11ea_a727_7085c2b270a2level0_row7\" class=\"row_heading level0 row7\" >40-44</th>\n",
       "                        <td id=\"T_05cb3ac0_e68a_11ea_a727_7085c2b270a2row7_col0\" class=\"data row7 col0\" >11</td>\n",
       "                        <td id=\"T_05cb3ac0_e68a_11ea_a727_7085c2b270a2row7_col1\" class=\"data row7 col1\" >1.91 %</td>\n",
       "            </tr>\n",
       "            <tr>\n",
       "                        <th id=\"T_05cb3ac0_e68a_11ea_a727_7085c2b270a2level0_row8\" class=\"row_heading level0 row8\" >45+</th>\n",
       "                        <td id=\"T_05cb3ac0_e68a_11ea_a727_7085c2b270a2row8_col0\" class=\"data row8 col0\" >1</td>\n",
       "                        <td id=\"T_05cb3ac0_e68a_11ea_a727_7085c2b270a2row8_col1\" class=\"data row8 col1\" >0.17 %</td>\n",
       "            </tr>\n",
       "    </tbody></table>"
      ],
      "text/plain": [
       "<pandas.io.formats.style.Styler at 0x183e7f993a0>"
      ]
     },
     "execution_count": 73,
     "metadata": {},
     "output_type": "execute_result"
    }
   ],
   "source": [
    "#bins\n",
    "bins = [0, 9, 14.5, 19.5, 24.5, 29.5, 34.5, 39.5, 44.5, 999]\n",
    "bin_names = [\"<10\", \"10-14\", \"15-19\", \"20-24\", \"25-29\", \"30-34\", \"35-39\", \"40-44\", \"45+\"]\n",
    "\n",
    "#insert new column and cut in bins by age\n",
    "df[\"Age Group\"] = pd.cut(df[\"Age\"], bins, labels = bin_names)\n",
    "age_grouped = df.groupby(\"Age Group\")\n",
    "\n",
    "#calculate players and percent by age\n",
    "total_age_count = age_grouped[\"SN\"].nunique()\n",
    "percentage_by_age = total_age_count/total_players * 100\n",
    "\n",
    "# create new dataframe\n",
    "age_demo_df = pd.DataFrame({\"Players by Age\": total_age_count, \"Percentage by Age\": percentage_by_age})\n",
    "\n",
    "#clean it up\n",
    "age_demo_df.index.name = None\n",
    "age_demo_df = age_demo_df.style.format({\"Percentage by Age\":\"{:,.2f} %\"})\n",
    "age_demo_df"
   ]
  },
  {
   "cell_type": "markdown",
   "metadata": {},
   "source": [
    "## Purchasing Analysis (Age)"
   ]
  },
  {
   "cell_type": "markdown",
   "metadata": {},
   "source": [
    "* Bin the purchase_data data frame by age\n",
    "\n",
    "\n",
    "* Run basic calculations to obtain purchase count, avg. purchase price, avg. purchase total per person etc. in the table below\n",
    "\n",
    "\n",
    "* Create a summary data frame to hold the results\n",
    "\n",
    "\n",
    "* Optional: give the displayed data cleaner formatting\n",
    "\n",
    "\n",
    "* Display the summary data frame"
   ]
  },
  {
   "cell_type": "code",
   "execution_count": null,
   "metadata": {},
   "outputs": [],
   "source": []
  },
  {
   "cell_type": "markdown",
   "metadata": {},
   "source": [
    "## Top Spenders"
   ]
  },
  {
   "cell_type": "markdown",
   "metadata": {},
   "source": [
    "* Run basic calculations to obtain the results in the table below\n",
    "\n",
    "\n",
    "* Create a summary data frame to hold the results\n",
    "\n",
    "\n",
    "* Sort the total purchase value column in descending order\n",
    "\n",
    "\n",
    "* Optional: give the displayed data cleaner formatting\n",
    "\n",
    "\n",
    "* Display a preview of the summary data frame\n",
    "\n"
   ]
  },
  {
   "cell_type": "code",
   "execution_count": null,
   "metadata": {},
   "outputs": [],
   "source": []
  },
  {
   "cell_type": "markdown",
   "metadata": {},
   "source": [
    "## Most Popular Items"
   ]
  },
  {
   "cell_type": "markdown",
   "metadata": {},
   "source": [
    "* Retrieve the Item ID, Item Name, and Item Price columns\n",
    "\n",
    "\n",
    "* Group by Item ID and Item Name. Perform calculations to obtain purchase count, item price, and total purchase value\n",
    "\n",
    "\n",
    "* Create a summary data frame to hold the results\n",
    "\n",
    "\n",
    "* Sort the purchase count column in descending order\n",
    "\n",
    "\n",
    "* Optional: give the displayed data cleaner formatting\n",
    "\n",
    "\n",
    "* Display a preview of the summary data frame\n",
    "\n"
   ]
  },
  {
   "cell_type": "code",
   "execution_count": null,
   "metadata": {},
   "outputs": [],
   "source": []
  },
  {
   "cell_type": "markdown",
   "metadata": {},
   "source": [
    "## Most Profitable Items"
   ]
  },
  {
   "cell_type": "markdown",
   "metadata": {},
   "source": [
    "* Sort the above table by total purchase value in descending order\n",
    "\n",
    "\n",
    "* Optional: give the displayed data cleaner formatting\n",
    "\n",
    "\n",
    "* Display a preview of the data frame\n",
    "\n"
   ]
  },
  {
   "cell_type": "code",
   "execution_count": null,
   "metadata": {
    "scrolled": true
   },
   "outputs": [],
   "source": []
  }
 ],
 "metadata": {
  "anaconda-cloud": {},
  "kernel_info": {
   "name": "python3"
  },
  "kernelspec": {
   "display_name": "Python 3",
   "language": "python",
   "name": "python3"
  },
  "language_info": {
   "codemirror_mode": {
    "name": "ipython",
    "version": 3
   },
   "file_extension": ".py",
   "mimetype": "text/x-python",
   "name": "python",
   "nbconvert_exporter": "python",
   "pygments_lexer": "ipython3",
   "version": "3.8.3"
  },
  "latex_envs": {
   "LaTeX_envs_menu_present": true,
   "autoclose": false,
   "autocomplete": true,
   "bibliofile": "biblio.bib",
   "cite_by": "apalike",
   "current_citInitial": 1,
   "eqLabelWithNumbers": true,
   "eqNumInitial": 1,
   "hotkeys": {
    "equation": "Ctrl-E",
    "itemize": "Ctrl-I"
   },
   "labels_anchors": false,
   "latex_user_defs": false,
   "report_style_numbering": false,
   "user_envs_cfg": false
  },
  "nteract": {
   "version": "0.2.0"
  }
 },
 "nbformat": 4,
 "nbformat_minor": 2
}
